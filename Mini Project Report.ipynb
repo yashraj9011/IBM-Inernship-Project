{
 "cells": [
  {
   "cell_type": "markdown",
   "id": "55484d96",
   "metadata": {},
   "source": [
    "                                   \n",
    "  <h2><center> AI Based ChatBot</center></h2>\n",
    "  \n",
    "   <b><center>In partial fulfillment for the requirement of Artificial Intelligence Mini Project<br>\n",
    "                                                               of<br>\n",
    "                                        Third Year of Artificial Intelligence and Data Science</center></b>\n",
    "                                        \n",
    "  <b><center>A  Project Report Submitted by</center></b>\n",
    "                                                                                         \n",
    "                                                 Mr. Pranav Chothave  2237003\n",
    "                                                 Mr. Sumeet Ghumare   2237071\n",
    "                                                 Mr. Yadnyasen Shinde 2237066\n",
    "                                                 Mr. Yashraj Devrat   2237031\n",
    "                                                   \n",
    "   <b><center>Under the guidance of<br>\n",
    "                                                     Prof. Digambar Padulkar<br>\n",
    "                                                      (Assistant Professor)</center></b>\n",
    "<img src=\"vpkbiet.png\" width=\"80\" height=\"80\">\n",
    "                                            \n",
    "   <b><center>Department of Artificial Intelligence and Data Science<br>\n",
    "                                       Vidya Pratishthan’s Kamalnayan Bajaj Institute of<br>\n",
    "                                                   Engineering and Technology<br>\n",
    "                                                    Bhigwan Road, Vidyanagari<br>\n",
    "                                                       Baramati-413133</center></b>\n"
   ]
  },
  {
   "cell_type": "markdown",
   "id": "ceeb6c36",
   "metadata": {},
   "source": [
    "<h2><center>Certificate</center></h2>"
   ]
  },
  {
   "cell_type": "markdown",
   "id": "987b6e95",
   "metadata": {},
   "source": [
    "   <b><center>Vidya Pratishthan’s<br>\n",
    "                                   Kamalnayan Bajaj Institute of Engineering and Technology, Baramati<br>\n",
    "                                         Department of Artificial Intelligence and Data Science</center></b>\n",
    "                                       \n",
    "                                       \n",
    "   <b><center>Certificate<br>\n",
    "                                          This is to certify that following students</center></b>\n",
    "                                          \n",
    "                                                   Mr. Pranav Chothave  2237003\n",
    "                                                   Mr. Sumeet Ghumare   2237071\n",
    "                                                   Mr. Yadnyasen Shinde 2237066\n",
    "                                                   Mr. Yashraj Devrat   2237031\n",
    "\n",
    "\n",
    "   <b><center>have successfully completed their Mini Project Report on<br>\n",
    "                                                       AI Based Chatbot<br>\n",
    "                                   during the academic year 2022-2023 in the partial fulfillment towards<br>\n",
    "                                       the completion of Mini Project on Artificial Intelligence Lab<br>\n",
    "                                              in Artificial Intelligence and Data Science</center></b>\n",
    "                                              \n",
    "  <br>\n",
    "  <br>\n",
    "                                              \n",
    "    \n",
    " \n",
    "                        Project Guide                                               Head Dept. of AI & DS\n",
    "                   (Prof.Digambar Padulkar)                                           (Dr.Arvind Jagtap)\n",
    "                   \n",
    "   <br>               \n",
    "                   \n",
    "   <b><center>Principal<br>\n",
    "                                                    (Dr.R.S.Bichkar)</center></b>"
   ]
  },
  {
   "cell_type": "markdown",
   "id": "d0c1d63c",
   "metadata": {},
   "source": [
    "## <center> Acknowledgments</center>"
   ]
  },
  {
   "cell_type": "markdown",
   "id": "d58fae0a",
   "metadata": {},
   "source": [
    "<center>It gives us great pleasure in presenting the project report on <b>AI\n",
    "Based Chatbot</b>. We would like to take this opportunity to thank\n",
    "our guide <b>Prof.Digambar Padulkar</b> for giving us all the help\n",
    "and supervision that we needed. We are really grateful to them for their\n",
    "kind support. Their valuable suggestions were very helpful. We are also\n",
    "grateful to <b>Dr.Arvind Jagtap</b>, Head of Artificial Intelligence\n",
    "and Data Science Engineering Department, VPKBIET for his indispensable\n",
    "support and suggestions.</center>\n",
    "\n",
    "Mr.Pranav Chothave\n",
    "\n",
    "Mr.Sumeet Ghumare \n",
    "\n",
    "Mr.Yadnyasen Shinde\n",
    "\n",
    "Mr.Yashraj Devrat  "
   ]
  },
  {
   "cell_type": "markdown",
   "id": "051f198f",
   "metadata": {},
   "source": [
    "## <center> Abstract </center>"
   ]
  },
  {
   "cell_type": "markdown",
   "id": "4fa5ce67",
   "metadata": {},
   "source": [
    "Chatbots are envisioned to dramatically change the future of Software Engineering, allowing\n",
    "practitioners to chat and inquire about their software projects and interact with different services\n",
    "using natural language. At the heart of every chatbot is a Natural Language Understanding (NLU)\n",
    "component that enables the chatbot to understand natural language input. Recently, many NLU\n",
    "platforms were provided to serve as an off-the-shelf NLU component for chatbots, however,\n",
    "selecting the best NLU for Software Engineering chatbots remains an open challenge. Therefore, in\n",
    "this paper, Author has evaluate four of the most commonly used NLUs, namely IBM Watson, Google\n",
    "Dialogflow, Rasa, and Microsoft LUIS to shed light on which NLU should be used in Software\n",
    "Engineering based chatbots. Specifically, Author examine the NLUs’ performance in classifying\n",
    "intents, confidence scores stability, and extracting entities. To evaluate the NLUs, Author use two\n",
    "datasets that reflect two common tasks performed by Software Engineering practitioners, the task\n",
    "of chatting with the chatbot to ask questions about software repositories the task of asking\n",
    "development questions on Q&A forums (e.g., Stack Overflow).  "
   ]
  },
  {
   "cell_type": "markdown",
   "id": "59bc4fdf",
   "metadata": {},
   "source": [
    "<h2>  1.1 Project Title </h2>"
   ]
  },
  {
   "cell_type": "markdown",
   "id": "fe64ae81",
   "metadata": {},
   "source": [
    "<h1><strong><center>AI Based Chatbot</center></strong></h1>\n"
   ]
  },
  {
   "cell_type": "markdown",
   "id": "4d77ca15",
   "metadata": {},
   "source": [
    "<h2>1.2 Technical Keyword </h2>\n"
   ]
  },
  {
   "cell_type": "markdown",
   "id": "d9852dd4",
   "metadata": {},
   "source": [
    "Software chatbots, natural language understanding platforms, Bag of words, Natural Language Processing\n"
   ]
  },
  {
   "cell_type": "markdown",
   "id": "f3b74683",
   "metadata": {},
   "source": [
    "<h2> 1.3 Goals and Objective </h2>"
   ]
  },
  {
   "cell_type": "markdown",
   "id": "49e04f42",
   "metadata": {},
   "source": [
    "Chatbots are normally used to automate certain tasks, meaning they can run without specific instructions from humans. An organization or individual can use a chatbot to replace a repetitive task of interacting with a customer that a human would otherwise have to perform. Chatbots are also much faster at these tasks than humans."
   ]
  },
  {
   "cell_type": "markdown",
   "id": "87fcd8ab",
   "metadata": {},
   "source": [
    "<h2>1.4 Area of Project </h2>"
   ]
  },
  {
   "cell_type": "markdown",
   "id": "65801b7a",
   "metadata": {},
   "source": [
    "Chatbots are one of the most talked-about uses of natural language processing (NLP) software in business. Some of the most common application areas for chatbots include customer service, healthcare, and financial advisory using AI."
   ]
  },
  {
   "cell_type": "markdown",
   "id": "157635e0",
   "metadata": {},
   "source": [
    "<h2><center> 3. Introduction </center></h2>"
   ]
  },
  {
   "cell_type": "markdown",
   "id": "5b0cdaff",
   "metadata": {},
   "source": [
    "<h2> 3.1 Motivation of Project </h2>"
   ]
  },
  {
   "cell_type": "markdown",
   "id": "405f58a6",
   "metadata": {},
   "source": [
    "Consumers want to be able to use chatbots to surface information and get answers quickly and easily. Chatbots can improve lead generation, qualification and nurturing. "
   ]
  },
  {
   "cell_type": "markdown",
   "id": "182570b8",
   "metadata": {},
   "source": [
    "<h2>3.2 Literature Survey </h2>"
   ]
  },
  {
   "cell_type": "markdown",
   "id": "f7cfd242",
   "metadata": {},
   "source": [
    "Software chatbots are the conduit between their users and automated services . Through natural\n",
    "language, users ask the chatbot to perform specific tasks or inquire about a piece of information.\n",
    "Internally, a chatbot then uses the NLU to analyze the posed query and act on the users’ request.\n",
    "The main goal of an NLU is to extract structured data from unstructured language input. chatbots\n",
    "are becoming popular in the SE community due to their benefits in saving development time and\n",
    "resources.\n"
   ]
  },
  {
   "cell_type": "markdown",
   "id": "f512c99f",
   "metadata": {},
   "source": [
    "<h2><center>4. System Architecture </center></h2>"
   ]
  },
  {
   "cell_type": "markdown",
   "id": "d08d2f11",
   "metadata": {},
   "source": [
    "<img src=\"aa.jpeg\" width=\"600\" height=\"500\">"
   ]
  },
  {
   "cell_type": "markdown",
   "id": "083ec6cc",
   "metadata": {},
   "source": [
    "we use a simplified architecture of the chatbot  for illustration purposes. \n",
    "The NLU is trained on the queries (intents) related to mining software repositories\n",
    "and is trained to extract repository entities from users’ questions, such as a asking \n",
    "for (Coffee and tea). In this example, after the costumery greeting from the chatbot, \n",
    "the user asks the chatbot for Services which is forwarded to the NLU where it classifies \n",
    "the user’s question as having a GetMaintainers intent with a confidence score of 0.06. \n",
    "The low confidence score (lower than a predetermined threshold) triggers the fallback intent,\n",
    "thus, the chatbot asks the user to rephrase the question in a more understandable way \n",
    "(i.e., “Sorry, I did not understand your question, could you please rephrase the question?”). \n",
    "After the user rephrases the question chatbot will give right answer the NLU extracts the entity \n",
    "from Dataset of type Service and classifies the intent of the query as Get Fixing Commits with a\n",
    "confidence score of 0.85. Finally, the chatbot performs the necessary action, querying the database to answer the question."
   ]
  },
  {
   "cell_type": "markdown",
   "id": "75116fef",
   "metadata": {},
   "source": [
    "<h2><center> 5. Problem Definition and Scope </center></h2>"
   ]
  },
  {
   "cell_type": "markdown",
   "id": "4b2aacbc",
   "metadata": {},
   "source": [
    "<h2> 5.1 Problem Statement </h2>"
   ]
  },
  {
   "cell_type": "markdown",
   "id": "ffc97e2c",
   "metadata": {},
   "source": [
    "When we interacting with something online, we can't always rely ona person to help us, so we are left with a need for an chatbot which will be available 24/7."
   ]
  },
  {
   "cell_type": "markdown",
   "id": "c8ab0b84",
   "metadata": {},
   "source": [
    "<h2> 5.2  Applications </h2>"
   ]
  },
  {
   "cell_type": "markdown",
   "id": "9f16a1ac",
   "metadata": {},
   "source": [
    "1] Retail and e-commerce.<br>\n",
    "2] Travel and hospitality.<br>\n",
    "3] Banking, finance, and fintech.<br>\n",
    "4] Healthcare.<br>\n",
    "5] Media and entertainment.<br>\n",
    "6] Education.<br>"
   ]
  },
  {
   "cell_type": "markdown",
   "id": "dc5c31cc",
   "metadata": {},
   "source": [
    "<h2> 5.3 Constraints </h2>\n"
   ]
  },
  {
   "cell_type": "markdown",
   "id": "5f265b22",
   "metadata": {},
   "source": [
    "   Probably, the biggest drawback that conversational AI suffers is that it cannot handle complex queries or hold conversations with humans—it can handle only basic questions. This means chatbots, based on conversational AI, cannot help with customer retention. Bots can respond to humans only to an extent they have been trained. If a customer query is beyond what the machine has been trained for, it cannot understand or respond, which can frustrate customers.\n",
    " "
   ]
  },
  {
   "cell_type": "markdown",
   "id": "8255ea1d",
   "metadata": {},
   "source": [
    "<h2> 5.4 Future Work </h2>"
   ]
  },
  {
   "cell_type": "markdown",
   "id": "ced97e8e",
   "metadata": {},
   "source": [
    "Author believe that there is a need for more studies that compare different NLUs using more\n",
    "datasets to benchmark NLUs in the Software engineering context. Author contribute towards this effort by making his\n",
    "dataset publicly available."
   ]
  },
  {
   "cell_type": "markdown",
   "id": "23a79217",
   "metadata": {},
   "source": [
    "<h2><center>6. Results and Conclusion </center></h2>"
   ]
  },
  {
   "cell_type": "markdown",
   "id": "d41c7700",
   "metadata": {},
   "source": [
    "<h2>6.1 Result Analysis </h2>"
   ]
  },
  {
   "cell_type": "markdown",
   "id": "f8590477",
   "metadata": {},
   "source": [
    "Four widely-used NLUs are IBM Watson, Google Dialogflow, Rasa, and Microsoft LUIS. \n",
    "NLUs’ performance in intents classification, confidence score, and \n",
    "entity extraction is assessed using two different tasks designed from \n",
    "a Repository and Stack Overflow contexts. When considering all three aspects \n",
    "(intents classification, confidence scores, and entity extraction), \n",
    "it is evident that IBM Watson is the best performing NLU for the studied SE tasks.\n",
    "For each individual aspect, in intents classification, IBM Watson outperforms other NLUs for both tasks. \n",
    "On the other hand, when it comes to confidence scores, all NLUs (except for Dialogflow)\n",
    "return high confidence scores for the correctly classified intents. Also, Rasa is the most\n",
    "trustworthy NLU in terms of confidence score. Finally, LUIS and IBM Watson achieve the best results\n",
    "in extracting entities from the Repository and Stack Overflow tasks, respectively. \n",
    "The characteristics that affect the NLUs’ performance in intents classification.\n",
    "(e.g., # Training Samples) and entity extraction (e.g., unique entities)."
   ]
  },
  {
   "cell_type": "markdown",
   "id": "13f40288",
   "metadata": {},
   "source": [
    "<h2>6.2 Conclusion</h2>"
   ]
  },
  {
   "cell_type": "markdown",
   "id": "a7dd0baf",
   "metadata": {},
   "source": [
    "   Chatbots or smart assistants with artificial intelligence are dramatically changing businesses. There is a wide range of chatbot building platforms that are available for various enterprises, such as e-commerce, retail, banking, leisure, travel, healthcare, and so on. Chatbots can reach out to a large audience on messaging apps and be more effective than humans. They may develop into a capable information-gathering tool in the near future."
   ]
  },
  {
   "cell_type": "markdown",
   "id": "3cb49f24",
   "metadata": {},
   "source": [
    "<h2><center>References</center></h2>"
   ]
  },
  {
   "cell_type": "markdown",
   "id": "eb01b05e",
   "metadata": {},
   "source": [
    "[1] Ahmad Abdellatif ,Khaled Badran, Diego Elias Costa, Emad Shihab <em>\"A Comparison of Natural Language\n",
    "Understanding Platforms for Chatbots in Software Engineering\"</em>  IEEE Transactions on Software Engineering ( Volume: 48, Issue: 8, 01 August 2022)\n",
    "register. BMJ, 315(7101), 159-64.<br><br>\n",
    "[2] B. Xu, Z. Xing, X. Xia, and D. Lo,<em>\"AnswerBot: Automated genera-\n",
    "tion of answer summary to developers technical questions\"</em> in Proc.\n",
    "32nd IEEE/ACM Int. Conf. Autom. Softw. Eng., 2017, pp. 706–716.<br><br>"
   ]
  }
 ],
 "metadata": {
  "direction": "ltr",
  "kernelspec": {
   "display_name": "Python 3 (ipykernel)",
   "language": "python",
   "name": "python3"
  },
  "language_info": {
   "codemirror_mode": {
    "name": "ipython",
    "version": 3
   },
   "file_extension": ".py",
   "mimetype": "text/x-python",
   "name": "python",
   "nbconvert_exporter": "python",
   "pygments_lexer": "ipython3",
   "version": "3.9.12"
  }
 },
 "nbformat": 4,
 "nbformat_minor": 5
}
